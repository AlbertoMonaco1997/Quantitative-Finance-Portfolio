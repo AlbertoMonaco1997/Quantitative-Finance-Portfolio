{
 "cells": [
  {
   "cell_type": "code",
   "execution_count": 39,
   "id": "c3dd5824-0e98-4f63-8b2e-c0a2846f978b",
   "metadata": {},
   "outputs": [],
   "source": [
    "import pandas as pd\n",
    "import numpy as np\n",
    "\n",
    "# 1. Portafoglio attuale del fondo 'CGE_FUND'\n",
    "portfolio_data = {\n",
    "    'ticker': ['AAPL', 'AAPL_BOND', 'VOW_DE', 'P911_DE', 'MSFT'],\n",
    "    'market_value_eur': [1500000, 2100000, 9000000, 4500000, 2500000]\n",
    "}\n",
    "df_portfolio = pd.DataFrame(portfolio_data)\n",
    "\n",
    "# 2. Anagrafica degli asset\n",
    "assets_data = {\n",
    "    'ticker': ['AAPL', 'AAPL_BOND', 'X_TICKER', 'VOW_DE', 'P911_DE', 'MSFT', 'GOOG'],\n",
    "    'issuer_name': ['Apple Inc.', 'Apple Inc.', 'Azienda X', 'Volkswagen AG', 'Porsche AG', 'Microsoft Corp.', 'Alphabet Inc.'],\n",
    "    'issuer_group': ['Apple Group', 'Apple Group', 'Gruppo X', 'Volkswagen Group', 'Volkswagen Group', 'Microsoft Group', 'Alphabet Group'],\n",
    "    'is_ucits_eligible': [True, True, True, True, True, True, True]\n",
    "}\n",
    "df_assets_master = pd.DataFrame(assets_data)\n",
    "\n",
    "# 3. Dati del fondo\n",
    "fund_data = {\n",
    "    'fund_id': ['CGE_FUND'],\n",
    "    'nav_eur': [100000000] \n",
    "}\n",
    "df_fund = pd.DataFrame(fund_data)"
   ]
  },
  {
   "cell_type": "code",
   "execution_count": 120,
   "id": "69c1835e-dba9-4e48-8ade-5260b01b9bbc",
   "metadata": {},
   "outputs": [],
   "source": [
    "\n",
    "def check_ucits_compliance(ticker_to_add: str, amount_to_add_eur: float, df_portfolio : pd.DataFrame = df_portfolio, df_assets_master: pd.DataFrame = df_assets_master, df_fund: pd.DataFrame = df_fund):\n",
    "    if not ticker_to_add in df_assets_master['ticker'].values:\n",
    "        raise ValueError(f\"Ticker not found\")\n",
    "    if not df_assets_master[df_assets_master['ticker'] == ticker_to_add]['is_ucits_eligible'].iloc[0]:\n",
    "        return \"Not Eligible Asset\"\n",
    "       \n",
    "    current_nav = df_fund.loc[0, 'nav_eur']\n",
    "    new_nav = current_nav + amount_to_add_eur # let's suppose the liabilities remain the same\n",
    "    df_new_portfolio = df_portfolio.copy()\n",
    "    # add ticker and value if not already in the portfolio, otherwise just add the amount\n",
    "    if ticker_to_add in df_new_portfolio['ticker'].values:\n",
    "        index = df_new_portfolio.loc[df_new_portfolio['ticker'] == ticker_to_add].index[0]\n",
    "        df_new_portfolio.loc[index, 'market_value_eur'] += amount_to_add_eur\n",
    "    else:\n",
    "        df_new_portfolio.loc[len(df_new_portfolio)] = [ticker_to_add, amount_to_add_eur]\n",
    "    warning_list=[] #collector of all warnings\n",
    "    df_portfolio_info = pd.merge(df_new_portfolio, df_assets_master, how='left', on='ticker').drop('is_ucits_eligible', axis=1)\n",
    "    #get issuer and group\n",
    "    issuer = df_assets_master[df_assets_master['ticker'] == ticker_to_add]['issuer_name'].iloc[0]\n",
    "    group = df_assets_master[df_assets_master['ticker'] == ticker_to_add]['issuer_group'].iloc[0]\n",
    "    #get issuer value and group value\n",
    "    market_value_total_issuer = df_portfolio_info[df_portfolio_info['issuer_name'] == issuer]['market_value_eur'].sum()\n",
    "    market_value_total_group  = df_portfolio_info[df_portfolio_info['issuer_group'] == group]['market_value_eur'].sum()\n",
    "    #10% rule\n",
    "    if market_value_total_issuer/new_nav > 0.1:\n",
    "        warning_list.append(f\"10% limit breached for the issuer: {issuer}. The value is now: {market_value_total_issuer/new_nav}\")\n",
    "    # 20% rule\n",
    "    if market_value_total_group/new_nav > 0.2:\n",
    "        warning_list.append(f\"20% limit breached for the group: {group}. The value is now: {market_value_total_group/new_nav}\")\n",
    "\n",
    "    \n",
    "    df_issuers = df_portfolio_info.groupby('issuer_name')['market_value_eur'].sum()\n",
    "    df_issuers = df_issuers.divide(new_nav / 100).reset_index(name='percentage')\n",
    "    forty_rule = df_issuers[df_issuers[\"percentage\"] >= 5][\"percentage\"].sum()\n",
    "    #40% rule\n",
    "    if forty_rule > 40:\n",
    "        warning_list.append(f\"40% limit breached for the considered fund. The value is now: {forty_rule}\")\n",
    "\n",
    "\n",
    "    if not warning_list:\n",
    "        return (True, [\"Transaction Approved\"])\n",
    "    else:\n",
    "        return (False, warning_list)\n",
    "    #current_mar_value =  df_assets_master[df_assets_master['ticker'] == ticker_to_add].loc[0, 'is_ucits_eligible']\n",
    "    \n",
    "   \n",
    "    \n",
    "    \n",
    "    # return(df_portfolio['market_value_eur'].sum())\n",
    "\n",
    "    \n",
    "    \n",
    "    "
   ]
  },
  {
   "cell_type": "code",
   "execution_count": 121,
   "id": "e5ce1ee9-e8e5-4658-8c33-dc7532793476",
   "metadata": {
    "scrolled": true
   },
   "outputs": [
    {
     "name": "stdout",
     "output_type": "stream",
     "text": [
      "99.36754966887418\n",
      "       issuer_name  percentage\n",
      "0       Apple Inc.    0.023841\n",
      "1  Microsoft Corp.    0.016556\n",
      "2       Porsche AG   99.367550\n",
      "3    Volkswagen AG    0.059603\n",
      "['10% limit breached for the issuer: Porsche AG. The value is now: 0.9936754966887418', '20% limit breached for the group: Volkswagen Group. The value is now: 0.994271523178808', '40% limit breached for the considered fund. The value is now: 99.36754966887418']\n"
     ]
    }
   ],
   "source": [
    "print(check_ucits_compliance(ticker_to_add='P911_DE', amount_to_add_eur = 15000000000, df_portfolio= df_portfolio, df_assets_master = df_assets_master, df_fund= df_fund))"
   ]
  },
  {
   "cell_type": "code",
   "execution_count": null,
   "id": "84f6745a-b56c-4ffe-8d88-cc14f28f6932",
   "metadata": {},
   "outputs": [],
   "source": []
  },
  {
   "cell_type": "code",
   "execution_count": null,
   "id": "23687c1f-bd10-48e1-a405-41654ba27c1a",
   "metadata": {},
   "outputs": [],
   "source": []
  }
 ],
 "metadata": {
  "kernelspec": {
   "display_name": "Python [conda env:base] *",
   "language": "python",
   "name": "conda-base-py"
  },
  "language_info": {
   "codemirror_mode": {
    "name": "ipython",
    "version": 3
   },
   "file_extension": ".py",
   "mimetype": "text/x-python",
   "name": "python",
   "nbconvert_exporter": "python",
   "pygments_lexer": "ipython3",
   "version": "3.13.5"
  }
 },
 "nbformat": 4,
 "nbformat_minor": 5
}
